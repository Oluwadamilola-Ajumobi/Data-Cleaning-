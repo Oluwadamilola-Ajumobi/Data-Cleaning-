{
 "cells": [
  {
   "cell_type": "markdown",
   "id": "7a6fde5e",
   "metadata": {},
   "source": [
    "Importing the necessary libraries required for the data cleaning process, these are usually Pandas and numpy, sometimes Matplotlib and seaborn if there's a need to visualize some columns."
   ]
  },
  {
   "cell_type": "code",
   "execution_count": 18,
   "id": "8e551694",
   "metadata": {},
   "outputs": [],
   "source": [
    "import pandas as pd\n",
    "import numpy as np\n",
    "import matplotlib.pyplot as plt \n",
    "import seaborn as sns"
   ]
  },
  {
   "cell_type": "markdown",
   "id": "d0c6790d",
   "metadata": {},
   "source": [
    "Importing the dataset file. This is usually carried out using the pd.read_csv() function (for a csv file). Usually, your dataset could come in excel, json...\n",
    "\n",
    "To display the first 5 rows of the dataset, we use the data.head() function\n",
    "\n",
    "To display the last 5 rows of the dataset, we use the data.tail() function\n",
    "\n",
    "To display the entire dataset, we use the pd.set_option('display.max_rows', None) function"
   ]
  },
  {
   "cell_type": "code",
   "execution_count": 21,
   "id": "7778aab7",
   "metadata": {
    "scrolled": true
   },
   "outputs": [
    {
     "data": {
      "text/html": [
       "<div>\n",
       "<style scoped>\n",
       "    .dataframe tbody tr th:only-of-type {\n",
       "        vertical-align: middle;\n",
       "    }\n",
       "\n",
       "    .dataframe tbody tr th {\n",
       "        vertical-align: top;\n",
       "    }\n",
       "\n",
       "    .dataframe thead th {\n",
       "        text-align: right;\n",
       "    }\n",
       "</style>\n",
       "<table border=\"1\" class=\"dataframe\">\n",
       "  <thead>\n",
       "    <tr style=\"text-align: right;\">\n",
       "      <th></th>\n",
       "      <th>Country</th>\n",
       "      <th>Year</th>\n",
       "      <th>Number of reported cases of cholera</th>\n",
       "      <th>Number of reported deaths from cholera</th>\n",
       "      <th>Cholera case fatality rate</th>\n",
       "      <th>WHO Region</th>\n",
       "    </tr>\n",
       "  </thead>\n",
       "  <tbody>\n",
       "    <tr>\n",
       "      <th>0</th>\n",
       "      <td>Afghanistan</td>\n",
       "      <td>2016</td>\n",
       "      <td>677</td>\n",
       "      <td>5</td>\n",
       "      <td>0.7</td>\n",
       "      <td>Eastern Mediterranean</td>\n",
       "    </tr>\n",
       "    <tr>\n",
       "      <th>1</th>\n",
       "      <td>Afghanistan</td>\n",
       "      <td>2015</td>\n",
       "      <td>58064</td>\n",
       "      <td>8</td>\n",
       "      <td>0.01</td>\n",
       "      <td>Eastern Mediterranean</td>\n",
       "    </tr>\n",
       "    <tr>\n",
       "      <th>2</th>\n",
       "      <td>Afghanistan</td>\n",
       "      <td>2014</td>\n",
       "      <td>45481</td>\n",
       "      <td>4</td>\n",
       "      <td>0.0</td>\n",
       "      <td>Eastern Mediterranean</td>\n",
       "    </tr>\n",
       "    <tr>\n",
       "      <th>3</th>\n",
       "      <td>Afghanistan</td>\n",
       "      <td>2013</td>\n",
       "      <td>3957</td>\n",
       "      <td>14</td>\n",
       "      <td>0.35</td>\n",
       "      <td>Eastern Mediterranean</td>\n",
       "    </tr>\n",
       "    <tr>\n",
       "      <th>4</th>\n",
       "      <td>Afghanistan</td>\n",
       "      <td>2012</td>\n",
       "      <td>12</td>\n",
       "      <td>0</td>\n",
       "      <td>0.1</td>\n",
       "      <td>Eastern Mediterranean</td>\n",
       "    </tr>\n",
       "  </tbody>\n",
       "</table>\n",
       "</div>"
      ],
      "text/plain": [
       "       Country  Year Number of reported cases of cholera  \\\n",
       "0  Afghanistan  2016                                 677   \n",
       "1  Afghanistan  2015                               58064   \n",
       "2  Afghanistan  2014                               45481   \n",
       "3  Afghanistan  2013                                3957   \n",
       "4  Afghanistan  2012                                  12   \n",
       "\n",
       "  Number of reported deaths from cholera Cholera case fatality rate  \\\n",
       "0                                      5                        0.7   \n",
       "1                                      8                       0.01   \n",
       "2                                      4                        0.0   \n",
       "3                                     14                       0.35   \n",
       "4                                      0                        0.1   \n",
       "\n",
       "              WHO Region  \n",
       "0  Eastern Mediterranean  \n",
       "1  Eastern Mediterranean  \n",
       "2  Eastern Mediterranean  \n",
       "3  Eastern Mediterranean  \n",
       "4  Eastern Mediterranean  "
      ]
     },
     "execution_count": 21,
     "metadata": {},
     "output_type": "execute_result"
    }
   ],
   "source": [
    "df = pd.read_csv(r'C:\\Users\\user\\Desktop\\data.csv')\n",
    "df.head()"
   ]
  },
  {
   "cell_type": "code",
   "execution_count": 22,
   "id": "0f9cc47a",
   "metadata": {},
   "outputs": [
    {
     "data": {
      "text/html": [
       "<div>\n",
       "<style scoped>\n",
       "    .dataframe tbody tr th:only-of-type {\n",
       "        vertical-align: middle;\n",
       "    }\n",
       "\n",
       "    .dataframe tbody tr th {\n",
       "        vertical-align: top;\n",
       "    }\n",
       "\n",
       "    .dataframe thead th {\n",
       "        text-align: right;\n",
       "    }\n",
       "</style>\n",
       "<table border=\"1\" class=\"dataframe\">\n",
       "  <thead>\n",
       "    <tr style=\"text-align: right;\">\n",
       "      <th></th>\n",
       "      <th>Country</th>\n",
       "      <th>Year</th>\n",
       "      <th>Number of reported cases of cholera</th>\n",
       "      <th>Number of reported deaths from cholera</th>\n",
       "      <th>Cholera case fatality rate</th>\n",
       "      <th>WHO Region</th>\n",
       "    </tr>\n",
       "  </thead>\n",
       "  <tbody>\n",
       "    <tr>\n",
       "      <th>2487</th>\n",
       "      <td>Russian Federation</td>\n",
       "      <td>1980</td>\n",
       "      <td>NaN</td>\n",
       "      <td>0</td>\n",
       "      <td>NaN</td>\n",
       "      <td>Europe</td>\n",
       "    </tr>\n",
       "    <tr>\n",
       "      <th>2488</th>\n",
       "      <td>Russian Federation</td>\n",
       "      <td>1971</td>\n",
       "      <td>NaN</td>\n",
       "      <td>0</td>\n",
       "      <td>NaN</td>\n",
       "      <td>Europe</td>\n",
       "    </tr>\n",
       "    <tr>\n",
       "      <th>2489</th>\n",
       "      <td>Sweden</td>\n",
       "      <td>1984</td>\n",
       "      <td>NaN</td>\n",
       "      <td>0</td>\n",
       "      <td>NaN</td>\n",
       "      <td>Europe</td>\n",
       "    </tr>\n",
       "    <tr>\n",
       "      <th>2490</th>\n",
       "      <td>Switzerland</td>\n",
       "      <td>1980</td>\n",
       "      <td>NaN</td>\n",
       "      <td>0</td>\n",
       "      <td>NaN</td>\n",
       "      <td>Europe</td>\n",
       "    </tr>\n",
       "    <tr>\n",
       "      <th>2491</th>\n",
       "      <td>Cambodia</td>\n",
       "      <td>2011</td>\n",
       "      <td>NaN</td>\n",
       "      <td>NaN</td>\n",
       "      <td>0.00</td>\n",
       "      <td>Western Pacific</td>\n",
       "    </tr>\n",
       "  </tbody>\n",
       "</table>\n",
       "</div>"
      ],
      "text/plain": [
       "                 Country  Year Number of reported cases of cholera  \\\n",
       "2487  Russian Federation  1980                                 NaN   \n",
       "2488  Russian Federation  1971                                 NaN   \n",
       "2489              Sweden  1984                                 NaN   \n",
       "2490         Switzerland  1980                                 NaN   \n",
       "2491            Cambodia  2011                                 NaN   \n",
       "\n",
       "     Number of reported deaths from cholera Cholera case fatality rate  \\\n",
       "2487                                      0                        NaN   \n",
       "2488                                      0                        NaN   \n",
       "2489                                      0                        NaN   \n",
       "2490                                      0                        NaN   \n",
       "2491                                    NaN                       0.00   \n",
       "\n",
       "           WHO Region  \n",
       "2487           Europe  \n",
       "2488           Europe  \n",
       "2489           Europe  \n",
       "2490           Europe  \n",
       "2491  Western Pacific  "
      ]
     },
     "execution_count": 22,
     "metadata": {},
     "output_type": "execute_result"
    }
   ],
   "source": [
    "df.tail()"
   ]
  },
  {
   "cell_type": "markdown",
   "id": "633ceeef",
   "metadata": {},
   "source": [
    "To check the data type of all the columns, we use the df.dtypes function. Always ensure that all columns have the correct datatype."
   ]
  },
  {
   "cell_type": "code",
   "execution_count": 23,
   "id": "f6e8e8ac",
   "metadata": {},
   "outputs": [
    {
     "data": {
      "text/plain": [
       "Country                                   object\n",
       "Year                                       int64\n",
       "Number of reported cases of cholera       object\n",
       "Number of reported deaths from cholera    object\n",
       "Cholera case fatality rate                object\n",
       "WHO Region                                object\n",
       "dtype: object"
      ]
     },
     "execution_count": 23,
     "metadata": {},
     "output_type": "execute_result"
    }
   ],
   "source": [
    "df.dtypes"
   ]
  },
  {
   "cell_type": "markdown",
   "id": "1db0ff2a",
   "metadata": {},
   "source": [
    "The df.info() function prints information about the dataset. The information contains the number of columns, column labels, column data types, memory usage, range index, and the number of cells in each column (non-null values)"
   ]
  },
  {
   "cell_type": "code",
   "execution_count": 40,
   "id": "7f174706",
   "metadata": {},
   "outputs": [
    {
     "name": "stdout",
     "output_type": "stream",
     "text": [
      "<class 'pandas.core.frame.DataFrame'>\n",
      "RangeIndex: 2492 entries, 0 to 2491\n",
      "Data columns (total 6 columns):\n",
      " #   Column           Non-Null Count  Dtype \n",
      "---  ------           --------------  ----- \n",
      " 0   Country          2492 non-null   object\n",
      " 1   Year             2492 non-null   int64 \n",
      " 2   Reported cases   2492 non-null   int32 \n",
      " 3   Reported deaths  2492 non-null   int32 \n",
      " 4   Fatality rate    2492 non-null   object\n",
      " 5   WHO Region       2492 non-null   object\n",
      "dtypes: int32(2), int64(1), object(3)\n",
      "memory usage: 97.5+ KB\n"
     ]
    }
   ],
   "source": [
    "df.info()"
   ]
  },
  {
   "cell_type": "markdown",
   "id": "716f7db0",
   "metadata": {},
   "source": [
    "Renaming some of the columns for easy access during further processing."
   ]
  },
  {
   "cell_type": "code",
   "execution_count": 41,
   "id": "3443f509",
   "metadata": {},
   "outputs": [
    {
     "data": {
      "text/html": [
       "<div>\n",
       "<style scoped>\n",
       "    .dataframe tbody tr th:only-of-type {\n",
       "        vertical-align: middle;\n",
       "    }\n",
       "\n",
       "    .dataframe tbody tr th {\n",
       "        vertical-align: top;\n",
       "    }\n",
       "\n",
       "    .dataframe thead th {\n",
       "        text-align: right;\n",
       "    }\n",
       "</style>\n",
       "<table border=\"1\" class=\"dataframe\">\n",
       "  <thead>\n",
       "    <tr style=\"text-align: right;\">\n",
       "      <th></th>\n",
       "      <th>Country</th>\n",
       "      <th>Year</th>\n",
       "      <th>Reported cases</th>\n",
       "      <th>Reported deaths</th>\n",
       "      <th>Fatality rate</th>\n",
       "      <th>WHO Region</th>\n",
       "    </tr>\n",
       "  </thead>\n",
       "  <tbody>\n",
       "    <tr>\n",
       "      <th>0</th>\n",
       "      <td>Afghanistan</td>\n",
       "      <td>2016</td>\n",
       "      <td>677</td>\n",
       "      <td>5</td>\n",
       "      <td>0.7</td>\n",
       "      <td>Eastern Mediterranean</td>\n",
       "    </tr>\n",
       "    <tr>\n",
       "      <th>1</th>\n",
       "      <td>Afghanistan</td>\n",
       "      <td>2015</td>\n",
       "      <td>58064</td>\n",
       "      <td>8</td>\n",
       "      <td>0.01</td>\n",
       "      <td>Eastern Mediterranean</td>\n",
       "    </tr>\n",
       "    <tr>\n",
       "      <th>2</th>\n",
       "      <td>Afghanistan</td>\n",
       "      <td>2014</td>\n",
       "      <td>45481</td>\n",
       "      <td>4</td>\n",
       "      <td>0.0</td>\n",
       "      <td>Eastern Mediterranean</td>\n",
       "    </tr>\n",
       "    <tr>\n",
       "      <th>3</th>\n",
       "      <td>Afghanistan</td>\n",
       "      <td>2013</td>\n",
       "      <td>3957</td>\n",
       "      <td>14</td>\n",
       "      <td>0.35</td>\n",
       "      <td>Eastern Mediterranean</td>\n",
       "    </tr>\n",
       "    <tr>\n",
       "      <th>4</th>\n",
       "      <td>Afghanistan</td>\n",
       "      <td>2012</td>\n",
       "      <td>12</td>\n",
       "      <td>0</td>\n",
       "      <td>0.1</td>\n",
       "      <td>Eastern Mediterranean</td>\n",
       "    </tr>\n",
       "  </tbody>\n",
       "</table>\n",
       "</div>"
      ],
      "text/plain": [
       "       Country  Year  Reported cases  Reported deaths Fatality rate  \\\n",
       "0  Afghanistan  2016             677                5           0.7   \n",
       "1  Afghanistan  2015           58064                8          0.01   \n",
       "2  Afghanistan  2014           45481                4           0.0   \n",
       "3  Afghanistan  2013            3957               14          0.35   \n",
       "4  Afghanistan  2012              12                0           0.1   \n",
       "\n",
       "              WHO Region  \n",
       "0  Eastern Mediterranean  \n",
       "1  Eastern Mediterranean  \n",
       "2  Eastern Mediterranean  \n",
       "3  Eastern Mediterranean  \n",
       "4  Eastern Mediterranean  "
      ]
     },
     "execution_count": 41,
     "metadata": {},
     "output_type": "execute_result"
    }
   ],
   "source": [
    "df= df.rename(columns = {\"Number of reported cases of cholera\":\"Reported cases\", \n",
    "                          \"Number of reported deaths from cholera\" : \"Reported deaths\", \n",
    "                          \"Cholera case fatality rate\" : \"Fatality rate\"})\n",
    "df.head()"
   ]
  },
  {
   "cell_type": "markdown",
   "id": "dd1a060f",
   "metadata": {},
   "source": [
    "Generating the total number of nulls available in each column"
   ]
  },
  {
   "cell_type": "code",
   "execution_count": 42,
   "id": "b102005b",
   "metadata": {},
   "outputs": [
    {
     "data": {
      "text/plain": [
       "Country            0\n",
       "Year               0\n",
       "Reported cases     0\n",
       "Reported deaths    0\n",
       "Fatality rate      0\n",
       "WHO Region         0\n",
       "dtype: int64"
      ]
     },
     "execution_count": 42,
     "metadata": {},
     "output_type": "execute_result"
    }
   ],
   "source": [
    "df.isnull().sum()"
   ]
  },
  {
   "cell_type": "markdown",
   "id": "3532d461",
   "metadata": {},
   "source": [
    "Filling up the nulls with 0 rather than dropping them\n"
   ]
  },
  {
   "cell_type": "code",
   "execution_count": 43,
   "id": "72701cff",
   "metadata": {},
   "outputs": [
    {
     "data": {
      "text/plain": [
       "Country            0\n",
       "Year               0\n",
       "Reported cases     0\n",
       "Reported deaths    0\n",
       "Fatality rate      0\n",
       "WHO Region         0\n",
       "dtype: int64"
      ]
     },
     "execution_count": 43,
     "metadata": {},
     "output_type": "execute_result"
    }
   ],
   "source": [
    "df['Reported cases'] = df['Reported cases'].fillna('0')\n",
    "df['Reported deaths'] = df['Reported deaths'].fillna('0')\n",
    "df['Fatality rate'] = df['Fatality rate'].fillna('0')\n",
    "\n",
    "df.isnull().sum()"
   ]
  },
  {
   "cell_type": "markdown",
   "id": "14c19bec",
   "metadata": {},
   "source": [
    "Removing whitespaces from the dataset"
   ]
  },
  {
   "cell_type": "code",
   "execution_count": null,
   "id": "480ec04f",
   "metadata": {},
   "outputs": [],
   "source": [
    "df['Reported cases'] = df['Reported cases'].str.replace(\" \", \"\")\n",
    "df['Reported deaths'] = df['Reported deaths'].str.replace(\" \", \"\")\n",
    "df['Fatality rate'] = df['Fatality rate'].str.replace(\" \", \"\")"
   ]
  },
  {
   "cell_type": "markdown",
   "id": "d01eaab6",
   "metadata": {},
   "source": [
    "Replacing the rows with unknown data with 0"
   ]
  },
  {
   "cell_type": "code",
   "execution_count": 45,
   "id": "8e84e529",
   "metadata": {},
   "outputs": [],
   "source": [
    "df['Reported cases'] = df['Reported cases'].replace('Unknown', '0')\n",
    "df['Reported deaths'] = df['Reported deaths'].replace('Unknown', '0')\n",
    "df['Fatality rate'] = df['Fatality rate'].replace('Unknown', '0')"
   ]
  },
  {
   "cell_type": "markdown",
   "id": "22eff5b5",
   "metadata": {},
   "source": [
    "Converting the data type of Reported deaths and Reported cases from object to int "
   ]
  },
  {
   "cell_type": "code",
   "execution_count": 39,
   "id": "770164a3",
   "metadata": {},
   "outputs": [],
   "source": [
    "df['Reported cases'] = df['Reported cases'].astype(int)\n",
    "df['Reported deaths'] = df['Reported deaths'].astype(int)"
   ]
  },
  {
   "cell_type": "code",
   "execution_count": 32,
   "id": "a8a5baf3",
   "metadata": {},
   "outputs": [
    {
     "data": {
      "text/plain": [
       "Country            object\n",
       "Year                int64\n",
       "Reported cases      int32\n",
       "Reported deaths     int32\n",
       "Fatality rate      object\n",
       "WHO Region         object\n",
       "dtype: object"
      ]
     },
     "execution_count": 32,
     "metadata": {},
     "output_type": "execute_result"
    }
   ],
   "source": [
    "df.dtypes"
   ]
  },
  {
   "cell_type": "markdown",
   "id": "5a4f1650",
   "metadata": {},
   "source": [
    "Checking for incorrect spellings in the country column"
   ]
  },
  {
   "cell_type": "code",
   "execution_count": 33,
   "id": "3bc36ba3",
   "metadata": {},
   "outputs": [
    {
     "data": {
      "text/plain": [
       "India                                                   64\n",
       "Malaysia                                                49\n",
       "Viet Nam                                                47\n",
       "Iran (Islamic Republic of)                              45\n",
       "Myanmar                                                 45\n",
       "Nigeria                                                 45\n",
       "Cameroon                                                44\n",
       "Bangladesh                                              44\n",
       "Philippines                                             43\n",
       "Ghana                                                   43\n",
       "Japan                                                   43\n",
       "Liberia                                                 42\n",
       "United Kingdom of Great Britain and Northern Ireland    41\n",
       "Singapore                                               41\n",
       "United Republic of Tanzania                             40\n",
       "Mozambique                                              40\n",
       "Benin                                                   39\n",
       "Thailand                                                39\n",
       "Indonesia                                               39\n",
       "Democratic Republic of the Congo                        39\n",
       "Kenya                                                   38\n",
       "Australia                                               36\n",
       "Nepal                                                   35\n",
       "Burundi                                                 35\n",
       "China                                                   35\n",
       "Malawi                                                  33\n",
       "France                                                  33\n",
       "Cambodia                                                33\n",
       "Togo                                                    32\n",
       "Germany                                                 32\n",
       "Rwanda                                                  32\n",
       "Uganda                                                  31\n",
       "Niger                                                   30\n",
       "United States of America                                29\n",
       "Zambia                                                  28\n",
       "South Africa                                            27\n",
       "Angola                                                  26\n",
       "Canada                                                  25\n",
       "Zimbabwe                                                25\n",
       "Côte d'Ivoire                                           25\n",
       "Russian Federation                                      25\n",
       "Somalia                                                 25\n",
       "Mali                                                    24\n",
       "Iraq                                                    24\n",
       "Netherlands                                             23\n",
       "Spain                                                   23\n",
       "Senegal                                                 22\n",
       "Afghanistan                                             22\n",
       "Burkina Faso                                            22\n",
       "Guinea                                                  21\n",
       "Sri Lanka                                               20\n",
       "Algeria                                                 20\n",
       "Chad                                                    18\n",
       "Guinea-Bissau                                           18\n",
       "Sweden                                                  17\n",
       "Republic of Korea                                       17\n",
       "Mexico                                                  17\n",
       "Mauritania                                              17\n",
       "Eswatini                                                17\n",
       "Pakistan                                                16\n",
       "Sierra Leone                                            16\n",
       "Congo                                                   15\n",
       "Djibouti                                                15\n",
       "Brazil                                                  14\n",
       "Guatemala                                               13\n",
       "Comoros                                                 13\n",
       "Kuwait                                                  13\n",
       "Ecuador                                                 13\n",
       "Yemen                                                   13\n",
       "Peru                                                    12\n",
       "Switzerland                                             12\n",
       "Saudi Arabia                                            11\n",
       "Honduras                                                11\n",
       "Ethiopia                                                11\n",
       "Belgium                                                 10\n",
       "Chile                                                   10\n",
       "Italy                                                   10\n",
       "Colombia                                                10\n",
       "Austria                                                 10\n",
       "Nicaragua                                               10\n",
       "Venezuela (Bolivarian Republic of)                      10\n",
       "Madagascar                                               9\n",
       "New Zealand                                              9\n",
       "Cabo Verde                                               9\n",
       "Lao People's Democratic Republic                         9\n",
       "El Salvador                                              9\n",
       "Norway                                                   9\n",
       "Bolivia (Plurinational State of)                         8\n",
       "Belize                                                   8\n",
       "Gambia                                                   8\n",
       "Sudan                                                    8\n",
       "Central African Republic                                 7\n",
       "Syrian Arab Republic                                     7\n",
       "Israel                                                   7\n",
       "Denmark                                                  7\n",
       "Sao Tome and Principe                                    7\n",
       "Dominican Republic                                       7\n",
       "Romania                                                  7\n",
       "Haiti                                                    7\n",
       "Gabon                                                    7\n",
       "Argentina                                                7\n",
       "Namibia                                                  7\n",
       "Bahrain                                                  6\n",
       "Portugal                                                 6\n",
       "Finland                                                  6\n",
       "Jordan                                                   6\n",
       "Brunei Darussalam                                        6\n",
       "Kazakhstan                                               6\n",
       "Costa Rica                                               6\n",
       "Ukraine                                                  6\n",
       "Lebanon                                                  5\n",
       "Papua New Guinea                                         5\n",
       "Morocco                                                  5\n",
       "Bhutan                                                   5\n",
       "Micronesia (Federated States of)                         5\n",
       "Equatorial Guinea                                        5\n",
       "Eritrea                                                  4\n",
       "Seychelles                                               4\n",
       "The former state union Serbia and Montenegro             4\n",
       "Poland                                                   4\n",
       "Oman                                                     4\n",
       "Botswana                                                 4\n",
       "Turkmenistan                                             4\n",
       "Cuba                                                     4\n",
       "Republic of Moldova                                      3\n",
       "Qatar                                                    3\n",
       "Tunisia                                                  3\n",
       "Paraguay                                                 3\n",
       "Panama                                                   3\n",
       "Greece                                                   3\n",
       "South Sudan                                              3\n",
       "Tuvalu                                                   2\n",
       "United Arab Emirates                                     2\n",
       "Turkey                                                   2\n",
       "Tajikistan                                               2\n",
       "Lesotho                                                  2\n",
       "Nauru                                                    2\n",
       "Mongolia                                                 2\n",
       "Mauritius                                                2\n",
       "Bahamas                                                  2\n",
       "Belarus                                                  2\n",
       "Libya                                                    2\n",
       "Czechia                                                  2\n",
       "Kiribati                                                 2\n",
       "Democratic People's Republic of Korea                    2\n",
       "Guyana                                                   2\n",
       "Suriname                                                 1\n",
       "Georgia                                                  1\n",
       "Armenia                                                  1\n",
       "Azerbaijan                                               1\n",
       "Uzbekistan                                               1\n",
       "Estonia                                                  1\n",
       "Ireland                                                  1\n",
       "Hungary                                                  1\n",
       "Slovenia                                                 1\n",
       "Kyrgyzstan                                               1\n",
       "Albania                                                  1\n",
       "Tonga                                                    1\n",
       "Maldives                                                 1\n",
       "Marshall Islands                                         1\n",
       "Samoa                                                    1\n",
       "Andorra                                                  1\n",
       "Name: Country, dtype: int64"
      ]
     },
     "execution_count": 33,
     "metadata": {},
     "output_type": "execute_result"
    }
   ],
   "source": [
    "df['Country'].value_counts()"
   ]
  },
  {
   "cell_type": "markdown",
   "id": "d0dc5d7a",
   "metadata": {},
   "source": [
    "Checking for incorrect spellings in the WHO Region column"
   ]
  },
  {
   "cell_type": "code",
   "execution_count": 34,
   "id": "44a89561",
   "metadata": {},
   "outputs": [
    {
     "data": {
      "text/plain": [
       "Africa                   991\n",
       "Western Pacific          391\n",
       "Europe                   327\n",
       "South-East Asia          292\n",
       "Americas                 256\n",
       "Eastern Mediterranean    235\n",
       "Name: WHO Region, dtype: int64"
      ]
     },
     "execution_count": 34,
     "metadata": {},
     "output_type": "execute_result"
    }
   ],
   "source": [
    "df['WHO Region'].value_counts()"
   ]
  },
  {
   "cell_type": "code",
   "execution_count": 35,
   "id": "4be46258",
   "metadata": {},
   "outputs": [
    {
     "data": {
      "text/html": [
       "<div>\n",
       "<style scoped>\n",
       "    .dataframe tbody tr th:only-of-type {\n",
       "        vertical-align: middle;\n",
       "    }\n",
       "\n",
       "    .dataframe tbody tr th {\n",
       "        vertical-align: top;\n",
       "    }\n",
       "\n",
       "    .dataframe thead th {\n",
       "        text-align: right;\n",
       "    }\n",
       "</style>\n",
       "<table border=\"1\" class=\"dataframe\">\n",
       "  <thead>\n",
       "    <tr style=\"text-align: right;\">\n",
       "      <th></th>\n",
       "      <th>Country</th>\n",
       "      <th>Year</th>\n",
       "      <th>Reported cases</th>\n",
       "      <th>Reported deaths</th>\n",
       "      <th>Fatality rate</th>\n",
       "      <th>WHO Region</th>\n",
       "    </tr>\n",
       "  </thead>\n",
       "  <tbody>\n",
       "    <tr>\n",
       "      <th>0</th>\n",
       "      <td>Afghanistan</td>\n",
       "      <td>2016</td>\n",
       "      <td>677</td>\n",
       "      <td>5</td>\n",
       "      <td>0.7</td>\n",
       "      <td>Eastern Mediterranean</td>\n",
       "    </tr>\n",
       "    <tr>\n",
       "      <th>1</th>\n",
       "      <td>Afghanistan</td>\n",
       "      <td>2015</td>\n",
       "      <td>58064</td>\n",
       "      <td>8</td>\n",
       "      <td>0.01</td>\n",
       "      <td>Eastern Mediterranean</td>\n",
       "    </tr>\n",
       "    <tr>\n",
       "      <th>2</th>\n",
       "      <td>Afghanistan</td>\n",
       "      <td>2014</td>\n",
       "      <td>45481</td>\n",
       "      <td>4</td>\n",
       "      <td>0.0</td>\n",
       "      <td>Eastern Mediterranean</td>\n",
       "    </tr>\n",
       "    <tr>\n",
       "      <th>3</th>\n",
       "      <td>Afghanistan</td>\n",
       "      <td>2013</td>\n",
       "      <td>3957</td>\n",
       "      <td>14</td>\n",
       "      <td>0.35</td>\n",
       "      <td>Eastern Mediterranean</td>\n",
       "    </tr>\n",
       "    <tr>\n",
       "      <th>4</th>\n",
       "      <td>Afghanistan</td>\n",
       "      <td>2012</td>\n",
       "      <td>12</td>\n",
       "      <td>0</td>\n",
       "      <td>0.1</td>\n",
       "      <td>Eastern Mediterranean</td>\n",
       "    </tr>\n",
       "  </tbody>\n",
       "</table>\n",
       "</div>"
      ],
      "text/plain": [
       "       Country  Year  Reported cases  Reported deaths Fatality rate  \\\n",
       "0  Afghanistan  2016             677                5           0.7   \n",
       "1  Afghanistan  2015           58064                8          0.01   \n",
       "2  Afghanistan  2014           45481                4           0.0   \n",
       "3  Afghanistan  2013            3957               14          0.35   \n",
       "4  Afghanistan  2012              12                0           0.1   \n",
       "\n",
       "              WHO Region  \n",
       "0  Eastern Mediterranean  \n",
       "1  Eastern Mediterranean  \n",
       "2  Eastern Mediterranean  \n",
       "3  Eastern Mediterranean  \n",
       "4  Eastern Mediterranean  "
      ]
     },
     "execution_count": 35,
     "metadata": {},
     "output_type": "execute_result"
    }
   ],
   "source": [
    "df.head()"
   ]
  }
 ],
 "metadata": {
  "kernelspec": {
   "display_name": "Python 3 (ipykernel)",
   "language": "python",
   "name": "python3"
  },
  "language_info": {
   "codemirror_mode": {
    "name": "ipython",
    "version": 3
   },
   "file_extension": ".py",
   "mimetype": "text/x-python",
   "name": "python",
   "nbconvert_exporter": "python",
   "pygments_lexer": "ipython3",
   "version": "3.9.7"
  }
 },
 "nbformat": 4,
 "nbformat_minor": 5
}
